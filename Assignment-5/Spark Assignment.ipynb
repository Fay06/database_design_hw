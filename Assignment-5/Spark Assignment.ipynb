{
 "cells": [
  {
   "cell_type": "code",
   "execution_count": 4,
   "metadata": {},
   "outputs": [],
   "source": [
    "import json\n",
    "import re\n",
    "class DisplayRDD:\n",
    "        def __init__(self, rdd):\n",
    "                self.rdd = rdd\n",
    "\n",
    "        def _repr_html_(self):                                  \n",
    "                x = self.rdd.mapPartitionsWithIndex(lambda i, x: [(i, [y for y in x])])\n",
    "                l = x.collect()\n",
    "                s = \"<table><tr>{}</tr><tr><td>\".format(\"\".join([\"<th>Partition {}\".format(str(j)) for (j, r) in l]))\n",
    "                s += '</td><td valign=\"bottom\" halignt=\"left\">'.join([\"<ul><li>{}</ul>\".format(\"<li>\".join([str(rr) for rr in r])) for (j, r) in l])\n",
    "                s += \"</td></table>\"\n",
    "                return s"
   ]
  },
  {
   "cell_type": "code",
   "execution_count": 8,
   "metadata": {},
   "outputs": [],
   "source": [
    "## Load data into RDDs\n",
    "playRDD = sc.textFile(\"datafiles/play.txt\")\n",
    "logsRDD = sc.textFile(\"datafiles/NASA_logs_sample.txt\")\n",
    "amazonInputRDD = sc.textFile(\"datafiles/amazon-ratings.txt\")\n",
    "nobelRDD = sc.textFile(\"datafiles/prize.json\")\n",
    "\n",
    "## The following converts the amazonInputRDD into 2-tuples with integers\n",
    "amazonBipartiteRDD = amazonInputRDD.map(lambda x: x.split(\" \")).map(lambda x: (x[0], x[1])).distinct()\n",
    "\n",
    "# A hack to avoid having to pass 'sc' around\n",
    "dummyrdd = None\n",
    "setDefaultAnswer(sc.parallelize([0]))\n",
    "def setDefaultAnswer(rdd): \n",
    "    global dummyrdd\n",
    "    dummyrdd = rdd"
   ]
  },
  {
   "cell_type": "code",
   "execution_count": 9,
   "metadata": {},
   "outputs": [
    {
     "name": "stdout",
     "output_type": "stream",
     "text": [
      "0\n"
     ]
    }
   ],
   "source": [
    "def task1(amazonInputRDD):\n",
    "        return dummyrdd\n",
    "task1_result = task1(amazonInputRDD)\n",
    "for x in task1_result.takeOrdered(10):\n",
    "    print(x)"
   ]
  },
  {
   "cell_type": "code",
   "execution_count": 10,
   "metadata": {},
   "outputs": [
    {
     "name": "stdout",
     "output_type": "stream",
     "text": [
      "0\n"
     ]
    }
   ],
   "source": [
    "def task2(amazonInputRDD):\n",
    "        return dummyrdd\n",
    "task2_result = task2(amazonInputRDD)\n",
    "for x in task2_result.takeOrdered(10):\n",
    "    print(x)"
   ]
  },
  {
   "cell_type": "code",
   "execution_count": 11,
   "metadata": {},
   "outputs": [
    {
     "name": "stdout",
     "output_type": "stream",
     "text": [
      "0\n"
     ]
    }
   ],
   "source": [
    "def task3(amazonInputRDD):\n",
    "        return dummyrdd\n",
    "task3_result = task3(amazonInputRDD)\n",
    "for x in task3_result.takeOrdered(10):\n",
    "    print(x)      "
   ]
  },
  {
   "cell_type": "code",
   "execution_count": 12,
   "metadata": {},
   "outputs": [
    {
     "name": "stdout",
     "output_type": "stream",
     "text": [
      "0\n"
     ]
    }
   ],
   "source": [
    "def task4(logsRDD):\n",
    "        return dummyrdd\n",
    "task4_result = task4(logsRDD)\n",
    "for x in task4_result.takeOrdered(10):\n",
    "    print(x)"
   ]
  },
  {
   "cell_type": "code",
   "execution_count": 13,
   "metadata": {},
   "outputs": [
    {
     "name": "stdout",
     "output_type": "stream",
     "text": [
      "[]\n"
     ]
    }
   ],
   "source": [
    "def task5_flatmap(x):\n",
    "        return []\n",
    "\n",
    "task5_result = playRDD.flatMap(task5_flatmap).distinct()\n",
    "print(task5_result.takeOrdered(100))"
   ]
  },
  {
   "cell_type": "code",
   "execution_count": 14,
   "metadata": {},
   "outputs": [
    {
     "name": "stdout",
     "output_type": "stream",
     "text": [
      "0\n"
     ]
    }
   ],
   "source": [
    "def task6(playRDD):\n",
    "        return dummyrdd\n",
    "\n",
    "task6_result = task6(playRDD)\n",
    "for x in task6_result.takeOrdered(10):\n",
    "    print(x)"
   ]
  },
  {
   "cell_type": "code",
   "execution_count": 15,
   "metadata": {},
   "outputs": [
    {
     "name": "stdout",
     "output_type": "stream",
     "text": [
      "[]\n"
     ]
    }
   ],
   "source": [
    "def task7_flatmap(x):\n",
    "        return []\n",
    "\n",
    "task7_result = nobelRDD.map(json.loads).flatMap(task7_flatmap).distinct()\n",
    "print(task7_result.takeOrdered(10))"
   ]
  },
  {
   "cell_type": "code",
   "execution_count": 16,
   "metadata": {},
   "outputs": [
    {
     "name": "stdout",
     "output_type": "stream",
     "text": [
      "0\n"
     ]
    }
   ],
   "source": [
    "def task8(nobelRDD):\n",
    "        return dummyrdd\n",
    "\n",
    "task8_result = task8(nobelRDD)\n",
    "for x in task8_result.takeOrdered(10):\n",
    "        print(x)"
   ]
  },
  {
   "cell_type": "code",
   "execution_count": 17,
   "metadata": {},
   "outputs": [
    {
     "name": "stdout",
     "output_type": "stream",
     "text": [
      "0\n"
     ]
    }
   ],
   "source": [
    "def task9(logsRDD, l):\n",
    "        return dummyrdd\n",
    "\n",
    "task9_result = task9(logsRDD, ['01/Jul/1995', '02/Jul/1995'])\n",
    "for x in task9_result.takeOrdered(10):\n",
    "    print(x)"
   ]
  },
  {
   "cell_type": "code",
   "execution_count": 18,
   "metadata": {},
   "outputs": [
    {
     "name": "stdout",
     "output_type": "stream",
     "text": [
      "[0]\n"
     ]
    }
   ],
   "source": [
    "def task10(bipartiteGraphRDD):\n",
    "        return dummyrdd\n",
    "task10_result = task10(amazonBipartiteRDD)\n",
    "print(task10_result.collect())"
   ]
  },
  {
   "cell_type": "code",
   "execution_count": null,
   "metadata": {},
   "outputs": [],
   "source": []
  }
 ],
 "metadata": {
  "kernelspec": {
   "display_name": "Python 3",
   "language": "python",
   "name": "python3"
  },
  "language_info": {
   "codemirror_mode": {
    "name": "ipython",
    "version": 3
   },
   "file_extension": ".py",
   "mimetype": "text/x-python",
   "name": "python",
   "nbconvert_exporter": "python",
   "pygments_lexer": "ipython3",
   "version": "3.8.10"
  }
 },
 "nbformat": 4,
 "nbformat_minor": 4
}
